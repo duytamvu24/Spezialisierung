{
 "cells": [
  {
   "cell_type": "code",
   "execution_count": 1,
   "id": "b5ce3198-58ce-4ffe-bf46-df4929834498",
   "metadata": {},
   "outputs": [],
   "source": [
    "from DataIntoDicom import *"
   ]
  },
  {
   "cell_type": "code",
   "execution_count": 2,
   "id": "d53ed848-a467-4d79-96e5-0fd68aea6ca8",
   "metadata": {},
   "outputs": [],
   "source": [
    "folder = \"D:/Uni/Master-Thesis/daten/20250522/Dicom-20250522_vollstaendig/DICOM_translated/Echtzeit_Ruhe/\""
   ]
  },
  {
   "cell_type": "code",
   "execution_count": 3,
   "id": "4752daa2-422f-4fe1-b8ec-f3e7caf3da82",
   "metadata": {},
   "outputs": [
    {
     "name": "stdout",
     "output_type": "stream",
     "text": [
      "D:/Uni/Master-Thesis/daten/20250522/Dicom-20250522_vollstaendig/DICOM_translated/Echtzeit_Ruhe//\n"
     ]
    }
   ],
   "source": [
    "# build path: \n",
    "# as long as there is only one folder add this folder to the path\n",
    "path = folder+'/'\n",
    "while len(os.listdir(path))==1: \n",
    "    path += os.listdir(path)[0]+'/'\n",
    "print(path)"
   ]
  },
  {
   "cell_type": "code",
   "execution_count": 4,
   "id": "5ec51c89-26de-4f8f-a852-a57352810508",
   "metadata": {},
   "outputs": [
    {
     "name": "stdout",
     "output_type": "stream",
     "text": [
      "30_mpi92_bSSFP_FOV320_16x8mm_33ms_10min_SA_Slice_1_32557\n",
      "Read files from D:/Uni/Master-Thesis/daten/20250522/Dicom-20250522_vollstaendig/DICOM_translated/Echtzeit_Ruhe//30_mpi92_bSSFP_FOV320_16x8mm_33ms_10min_SA_Slice_1_32557\n",
      "31_mpi92_bSSFP_FOV320_16x8mm_33ms_10min_SA_Slice_2_557.1\n",
      "Read files from D:/Uni/Master-Thesis/daten/20250522/Dicom-20250522_vollstaendig/DICOM_translated/Echtzeit_Ruhe//31_mpi92_bSSFP_FOV320_16x8mm_33ms_10min_SA_Slice_2_557.1\n",
      "32_mpi92_bSSFP_FOV320_16x8mm_33ms_10min_SA_Slice_3_557.2\n",
      "Read files from D:/Uni/Master-Thesis/daten/20250522/Dicom-20250522_vollstaendig/DICOM_translated/Echtzeit_Ruhe//32_mpi92_bSSFP_FOV320_16x8mm_33ms_10min_SA_Slice_3_557.2\n",
      "33_mpi92_bSSFP_FOV320_16x8mm_33ms_10min_SA_Slice_4_557.3\n",
      "Read files from D:/Uni/Master-Thesis/daten/20250522/Dicom-20250522_vollstaendig/DICOM_translated/Echtzeit_Ruhe//33_mpi92_bSSFP_FOV320_16x8mm_33ms_10min_SA_Slice_4_557.3\n",
      "34_mpi92_bSSFP_FOV320_16x8mm_33ms_10min_SA_Slice_5_557.4\n",
      "Read files from D:/Uni/Master-Thesis/daten/20250522/Dicom-20250522_vollstaendig/DICOM_translated/Echtzeit_Ruhe//34_mpi92_bSSFP_FOV320_16x8mm_33ms_10min_SA_Slice_5_557.4\n",
      "35_mpi92_bSSFP_FOV320_16x8mm_33ms_10min_SA_Slice_6_557.5\n",
      "Read files from D:/Uni/Master-Thesis/daten/20250522/Dicom-20250522_vollstaendig/DICOM_translated/Echtzeit_Ruhe//35_mpi92_bSSFP_FOV320_16x8mm_33ms_10min_SA_Slice_6_557.5\n",
      "36_mpi92_bSSFP_FOV320_16x8mm_33ms_10min_SA_Slice_7_557.6\n",
      "Read files from D:/Uni/Master-Thesis/daten/20250522/Dicom-20250522_vollstaendig/DICOM_translated/Echtzeit_Ruhe//36_mpi92_bSSFP_FOV320_16x8mm_33ms_10min_SA_Slice_7_557.6\n",
      "37_mpi92_bSSFP_FOV320_16x8mm_33ms_10min_SA_Slice_8_557.7\n",
      "Read files from D:/Uni/Master-Thesis/daten/20250522/Dicom-20250522_vollstaendig/DICOM_translated/Echtzeit_Ruhe//37_mpi92_bSSFP_FOV320_16x8mm_33ms_10min_SA_Slice_8_557.7\n",
      "38_mpi92_bSSFP_FOV320_16x8mm_33ms_10min_SA_Slice_9_557.8\n",
      "Read files from D:/Uni/Master-Thesis/daten/20250522/Dicom-20250522_vollstaendig/DICOM_translated/Echtzeit_Ruhe//38_mpi92_bSSFP_FOV320_16x8mm_33ms_10min_SA_Slice_9_557.8\n",
      "39_mpi92_bSSFP_FOV320_16x8mm_33ms_10min_SA_Slice_10_557.9\n",
      "Read files from D:/Uni/Master-Thesis/daten/20250522/Dicom-20250522_vollstaendig/DICOM_translated/Echtzeit_Ruhe//39_mpi92_bSSFP_FOV320_16x8mm_33ms_10min_SA_Slice_10_557.9\n",
      "40_mpi92_bSSFP_FOV320_16x8mm_33ms_10min_SA_Slice_11_57.10\n",
      "Read files from D:/Uni/Master-Thesis/daten/20250522/Dicom-20250522_vollstaendig/DICOM_translated/Echtzeit_Ruhe//40_mpi92_bSSFP_FOV320_16x8mm_33ms_10min_SA_Slice_11_57.10\n",
      "41_mpi92_bSSFP_FOV320_16x8mm_33ms_10min_SA_Slice_12_57.11\n",
      "Read files from D:/Uni/Master-Thesis/daten/20250522/Dicom-20250522_vollstaendig/DICOM_translated/Echtzeit_Ruhe//41_mpi92_bSSFP_FOV320_16x8mm_33ms_10min_SA_Slice_12_57.11\n",
      "42_mpi92_bSSFP_FOV320_16x8mm_33ms_10min_SA_Slice_13_57.12\n",
      "Read files from D:/Uni/Master-Thesis/daten/20250522/Dicom-20250522_vollstaendig/DICOM_translated/Echtzeit_Ruhe//42_mpi92_bSSFP_FOV320_16x8mm_33ms_10min_SA_Slice_13_57.12\n",
      "43_mpi92_bSSFP_FOV320_16x8mm_33ms_10min_SA_Slice_14_57.13\n",
      "Read files from D:/Uni/Master-Thesis/daten/20250522/Dicom-20250522_vollstaendig/DICOM_translated/Echtzeit_Ruhe//43_mpi92_bSSFP_FOV320_16x8mm_33ms_10min_SA_Slice_14_57.13\n",
      "44_mpi92_bSSFP_FOV320_16x8mm_33ms_10min_SA_Slice_15_57.14\n",
      "Read files from D:/Uni/Master-Thesis/daten/20250522/Dicom-20250522_vollstaendig/DICOM_translated/Echtzeit_Ruhe//44_mpi92_bSSFP_FOV320_16x8mm_33ms_10min_SA_Slice_15_57.14\n",
      "45_mpi92_bSSFP_FOV320_16x8mm_33ms_10min_SA_Slice_16_57.15\n",
      "Read files from D:/Uni/Master-Thesis/daten/20250522/Dicom-20250522_vollstaendig/DICOM_translated/Echtzeit_Ruhe//45_mpi92_bSSFP_FOV320_16x8mm_33ms_10min_SA_Slice_16_57.15\n",
      "Read 8000 files\n"
     ]
    }
   ],
   "source": [
    "scans = {} # dictionary containing a dictonary of dicom files: slice, scan \n",
    "i = 0\n",
    "dirs = os.listdir(path)\n",
    "for folder in dirs:\n",
    "    # open each folder and load all dicom files\n",
    "    # place these dicom files in a dictionary\n",
    "    # add dictionary to dictionary of all scans\n",
    "    current = path+folder \n",
    "    scan = {}\n",
    "    if folder=='.DS_Store':\n",
    "        # omit system files \n",
    "        continue\n",
    "    \n",
    "    print(folder)\n",
    "    for file in os.listdir(current):\n",
    "        if file=='.DS_Store':\n",
    "            continue\n",
    "        i += 1\n",
    "        current_file = current+'/'+file\n",
    "        scan[file] = pydicom.dcmread(current_file, force=True)\n",
    "    print(\"Read files from\", current)\n",
    "    scans[folder] = scan\n",
    "print(\"Read\", i, \"files\")"
   ]
  },
  {
   "cell_type": "code",
   "execution_count": 9,
   "id": "a2b8caa0-8cde-4e8a-9e24-871445b7fbae",
   "metadata": {},
   "outputs": [
    {
     "name": "stdout",
     "output_type": "stream",
     "text": [
      "30_mpi92_bSSFP_FOV320_16x8mm_33ms_10min_SA_Slice_1_32557\n",
      "500\n",
      "31_mpi92_bSSFP_FOV320_16x8mm_33ms_10min_SA_Slice_2_557.1\n",
      "500\n",
      "32_mpi92_bSSFP_FOV320_16x8mm_33ms_10min_SA_Slice_3_557.2\n",
      "500\n",
      "33_mpi92_bSSFP_FOV320_16x8mm_33ms_10min_SA_Slice_4_557.3\n",
      "500\n",
      "34_mpi92_bSSFP_FOV320_16x8mm_33ms_10min_SA_Slice_5_557.4\n",
      "500\n",
      "35_mpi92_bSSFP_FOV320_16x8mm_33ms_10min_SA_Slice_6_557.5\n",
      "500\n",
      "36_mpi92_bSSFP_FOV320_16x8mm_33ms_10min_SA_Slice_7_557.6\n",
      "500\n",
      "37_mpi92_bSSFP_FOV320_16x8mm_33ms_10min_SA_Slice_8_557.7\n",
      "500\n",
      "38_mpi92_bSSFP_FOV320_16x8mm_33ms_10min_SA_Slice_9_557.8\n",
      "500\n",
      "39_mpi92_bSSFP_FOV320_16x8mm_33ms_10min_SA_Slice_10_557.9\n",
      "500\n",
      "40_mpi92_bSSFP_FOV320_16x8mm_33ms_10min_SA_Slice_11_57.10\n",
      "500\n",
      "41_mpi92_bSSFP_FOV320_16x8mm_33ms_10min_SA_Slice_12_57.11\n",
      "500\n",
      "42_mpi92_bSSFP_FOV320_16x8mm_33ms_10min_SA_Slice_13_57.12\n",
      "500\n",
      "43_mpi92_bSSFP_FOV320_16x8mm_33ms_10min_SA_Slice_14_57.13\n",
      "500\n",
      "44_mpi92_bSSFP_FOV320_16x8mm_33ms_10min_SA_Slice_15_57.14\n",
      "500\n",
      "45_mpi92_bSSFP_FOV320_16x8mm_33ms_10min_SA_Slice_16_57.15\n",
      "500\n",
      "total: 8000\n"
     ]
    }
   ],
   "source": [
    "# count imported dicom files\n",
    "# Überprüfung anzahl pro slice\n",
    "total = 0\n",
    "for k in scans.keys():\n",
    "    print(k)\n",
    "    total += len(scans[k])\n",
    "    print(len(scans[k]))\n",
    "print('total:', total)"
   ]
  },
  {
   "cell_type": "code",
   "execution_count": 56,
   "id": "b1121013-a5cb-4e46-b2f7-b90e6ddf6524",
   "metadata": {},
   "outputs": [
    {
     "ename": "ValueError",
     "evalue": "time data \"b'181820.805000 '\" does not match format '%Y-%m-%d %H:%M:%S.%f'",
     "output_type": "error",
     "traceback": [
      "\u001b[1;31m---------------------------------------------------------------------------\u001b[0m",
      "\u001b[1;31mValueError\u001b[0m                                Traceback (most recent call last)",
      "Cell \u001b[1;32mIn[56], line 18\u001b[0m\n\u001b[0;32m     15\u001b[0m dicomtime_str \u001b[38;5;241m=\u001b[39m \u001b[38;5;28mstr\u001b[39m(scans[first_slice][first_image]\u001b[38;5;241m.\u001b[39mget_item((\u001b[38;5;241m0x08\u001b[39m, \u001b[38;5;241m0x32\u001b[39m))\u001b[38;5;241m.\u001b[39mvalue)\n\u001b[0;32m     16\u001b[0m \u001b[38;5;66;03m#dicomtime_str = convert_dicom_time(dicomtime)\u001b[39;00m\n\u001b[1;32m---> 18\u001b[0m dt \u001b[38;5;241m=\u001b[39m datetime\u001b[38;5;241m.\u001b[39mstrptime(dicomtime_str, \u001b[38;5;124m\"\u001b[39m\u001b[38;5;124m%\u001b[39m\u001b[38;5;124mY-\u001b[39m\u001b[38;5;124m%\u001b[39m\u001b[38;5;124mm-\u001b[39m\u001b[38;5;132;01m%d\u001b[39;00m\u001b[38;5;124m \u001b[39m\u001b[38;5;124m%\u001b[39m\u001b[38;5;124mH:\u001b[39m\u001b[38;5;124m%\u001b[39m\u001b[38;5;124mM:\u001b[39m\u001b[38;5;124m%\u001b[39m\u001b[38;5;124mS.\u001b[39m\u001b[38;5;132;01m%f\u001b[39;00m\u001b[38;5;124m\"\u001b[39m)\n\u001b[0;32m     19\u001b[0m \u001b[38;5;66;03m# Millisekunden seit Mitternacht:\u001b[39;00m\n\u001b[0;32m     20\u001b[0m msnmn \u001b[38;5;241m=\u001b[39m (\n\u001b[0;32m     21\u001b[0m     dt\u001b[38;5;241m.\u001b[39mhour \u001b[38;5;241m*\u001b[39m \u001b[38;5;241m3600000\u001b[39m \u001b[38;5;241m+\u001b[39m\n\u001b[0;32m     22\u001b[0m     dt\u001b[38;5;241m.\u001b[39mminute \u001b[38;5;241m*\u001b[39m \u001b[38;5;241m60000\u001b[39m \u001b[38;5;241m+\u001b[39m\n\u001b[0;32m     23\u001b[0m     dt\u001b[38;5;241m.\u001b[39msecond \u001b[38;5;241m*\u001b[39m \u001b[38;5;241m1000\u001b[39m \u001b[38;5;241m+\u001b[39m\n\u001b[0;32m     24\u001b[0m     dt\u001b[38;5;241m.\u001b[39mmicrosecond \u001b[38;5;241m/\u001b[39m\u001b[38;5;241m/\u001b[39m \u001b[38;5;241m1000\u001b[39m\n\u001b[0;32m     25\u001b[0m )\n",
      "File \u001b[1;32m~\\anaconda3\\Lib\\_strptime.py:554\u001b[0m, in \u001b[0;36m_strptime_datetime\u001b[1;34m(cls, data_string, format)\u001b[0m\n\u001b[0;32m    551\u001b[0m \u001b[38;5;28;01mdef\u001b[39;00m \u001b[38;5;21m_strptime_datetime\u001b[39m(\u001b[38;5;28mcls\u001b[39m, data_string, \u001b[38;5;28mformat\u001b[39m\u001b[38;5;241m=\u001b[39m\u001b[38;5;124m\"\u001b[39m\u001b[38;5;132;01m%a\u001b[39;00m\u001b[38;5;124m \u001b[39m\u001b[38;5;124m%\u001b[39m\u001b[38;5;124mb \u001b[39m\u001b[38;5;132;01m%d\u001b[39;00m\u001b[38;5;124m \u001b[39m\u001b[38;5;124m%\u001b[39m\u001b[38;5;124mH:\u001b[39m\u001b[38;5;124m%\u001b[39m\u001b[38;5;124mM:\u001b[39m\u001b[38;5;124m%\u001b[39m\u001b[38;5;124mS \u001b[39m\u001b[38;5;124m%\u001b[39m\u001b[38;5;124mY\u001b[39m\u001b[38;5;124m\"\u001b[39m):\n\u001b[0;32m    552\u001b[0m \u001b[38;5;250m    \u001b[39m\u001b[38;5;124;03m\"\"\"Return a class cls instance based on the input string and the\u001b[39;00m\n\u001b[0;32m    553\u001b[0m \u001b[38;5;124;03m    format string.\"\"\"\u001b[39;00m\n\u001b[1;32m--> 554\u001b[0m     tt, fraction, gmtoff_fraction \u001b[38;5;241m=\u001b[39m _strptime(data_string, \u001b[38;5;28mformat\u001b[39m)\n\u001b[0;32m    555\u001b[0m     tzname, gmtoff \u001b[38;5;241m=\u001b[39m tt[\u001b[38;5;241m-\u001b[39m\u001b[38;5;241m2\u001b[39m:]\n\u001b[0;32m    556\u001b[0m     args \u001b[38;5;241m=\u001b[39m tt[:\u001b[38;5;241m6\u001b[39m] \u001b[38;5;241m+\u001b[39m (fraction,)\n",
      "File \u001b[1;32m~\\anaconda3\\Lib\\_strptime.py:333\u001b[0m, in \u001b[0;36m_strptime\u001b[1;34m(data_string, format)\u001b[0m\n\u001b[0;32m    331\u001b[0m found \u001b[38;5;241m=\u001b[39m format_regex\u001b[38;5;241m.\u001b[39mmatch(data_string)\n\u001b[0;32m    332\u001b[0m \u001b[38;5;28;01mif\u001b[39;00m \u001b[38;5;129;01mnot\u001b[39;00m found:\n\u001b[1;32m--> 333\u001b[0m     \u001b[38;5;28;01mraise\u001b[39;00m \u001b[38;5;167;01mValueError\u001b[39;00m(\u001b[38;5;124m\"\u001b[39m\u001b[38;5;124mtime data \u001b[39m\u001b[38;5;132;01m%r\u001b[39;00m\u001b[38;5;124m does not match format \u001b[39m\u001b[38;5;132;01m%r\u001b[39;00m\u001b[38;5;124m\"\u001b[39m \u001b[38;5;241m%\u001b[39m\n\u001b[0;32m    334\u001b[0m                      (data_string, \u001b[38;5;28mformat\u001b[39m))\n\u001b[0;32m    335\u001b[0m \u001b[38;5;28;01mif\u001b[39;00m \u001b[38;5;28mlen\u001b[39m(data_string) \u001b[38;5;241m!=\u001b[39m found\u001b[38;5;241m.\u001b[39mend():\n\u001b[0;32m    336\u001b[0m     \u001b[38;5;28;01mraise\u001b[39;00m \u001b[38;5;167;01mValueError\u001b[39;00m(\u001b[38;5;124m\"\u001b[39m\u001b[38;5;124munconverted data remains: \u001b[39m\u001b[38;5;132;01m%s\u001b[39;00m\u001b[38;5;124m\"\u001b[39m \u001b[38;5;241m%\u001b[39m\n\u001b[0;32m    337\u001b[0m                       data_string[found\u001b[38;5;241m.\u001b[39mend():])\n",
      "\u001b[1;31mValueError\u001b[0m: time data \"b'181820.805000 '\" does not match format '%Y-%m-%d %H:%M:%S.%f'"
     ]
    }
   ],
   "source": [
    "# read ecg from dicom\n",
    "# Überprüfung richtige Dicom\n",
    "parent_dir = \"D:/Uni/Master-Thesis/daten/20250522/Dicom-20250522_vollstaendig/DICOM_translated/Echtzeit_Ruhe/\"\n",
    "slice_liste = [d for d in os.listdir(parent_dir) if os.path.isdir(os.path.join(parent_dir, d))]\n",
    "path_slices = os.path.join(parent_dir, slice_liste[0]) + \"/\"\n",
    "dicom_liste = [f for f in os.listdir(path_slices) if os.path.isfile(os.path.join(path_slices, f))]\n",
    "\n",
    "first_slice = slice_liste[0]\n",
    "first_image = dicom_liste[0]\n",
    "last_slice = slice_liste[-1]\n",
    "last_image = dicom_liste[-1]\n",
    "#plot(scans[first_slice][first_image].pixel_array)\n",
    "#print(scans[first_slice][first_image][0x18, 0x1060].value)\n",
    "\n",
    "dicomtime_str = str(scans[first_slice][first_image].get_item((0x08, 0x32)).value)\n",
    "#dicomtime_str = convert_dicom_time(dicomtime)\n",
    "\n",
    "dt = datetime.strptime(dicomtime_str, \"%Y-%m-%d %H:%M:%S.%f\")\n",
    "# Millisekunden seit Mitternacht:\n",
    "msnmn = (\n",
    "    dt.hour * 3600000 +\n",
    "    dt.minute * 60000 +\n",
    "    dt.second * 1000 +\n",
    "    dt.microsecond // 1000\n",
    ")\n",
    "\n",
    "print(msnmn)"
   ]
  },
  {
   "cell_type": "code",
   "execution_count": null,
   "id": "1f990b55-21ce-45ed-93ef-36c060d89061",
   "metadata": {},
   "outputs": [],
   "source": []
  },
  {
   "cell_type": "code",
   "execution_count": 30,
   "id": "e497ea79-f0fa-4c89-a4a0-86eee00a6440",
   "metadata": {},
   "outputs": [
    {
     "ename": "NameError",
     "evalue": "name 'msnmn' is not defined",
     "output_type": "error",
     "traceback": [
      "\u001b[1;31m---------------------------------------------------------------------------\u001b[0m",
      "\u001b[1;31mNameError\u001b[0m                                 Traceback (most recent call last)",
      "Cell \u001b[1;32mIn[30], line 10\u001b[0m\n\u001b[0;32m      8\u001b[0m timestamps \u001b[38;5;241m=\u001b[39m np\u001b[38;5;241m.\u001b[39marray(timestamps)\n\u001b[0;32m      9\u001b[0m \u001b[38;5;66;03m#data[:,0] *= 1000 # flow in ml/sec\u001b[39;00m\n\u001b[1;32m---> 10\u001b[0m data_vol_cutoff \u001b[38;5;241m=\u001b[39m get_cutted_spiro_data(\u001b[38;5;241m18\u001b[39m, \u001b[38;5;241m13\u001b[39m, \u001b[38;5;241m53\u001b[39m, \u001b[38;5;241m415\u001b[39m)\n\u001b[0;32m     12\u001b[0m timestamps \u001b[38;5;241m=\u001b[39m timestamps[\u001b[38;5;241m0\u001b[39m:\u001b[38;5;28mlen\u001b[39m(data_vol_cutoff)]\n",
      "File \u001b[1;32m~\\1_programmierung_masterarbeit\\Korrelation\\DataIntoDicom.py:182\u001b[0m, in \u001b[0;36mget_cutted_spiro_data\u001b[1;34m(hh, minuten, sek, ms)\u001b[0m\n\u001b[0;32m    178\u001b[0m data_vol \u001b[38;5;241m=\u001b[39m np\u001b[38;5;241m.\u001b[39mload(\u001b[38;5;124m\"\u001b[39m\u001b[38;5;124mspiro.npy\u001b[39m\u001b[38;5;124m\"\u001b[39m)\n\u001b[0;32m    179\u001b[0m \u001b[38;5;66;03m# Erstellt erstmal nur die Timestamps, hat bisher noch nichts selber mit den Tags zu tun\u001b[39;00m\n\u001b[0;32m    180\u001b[0m \n\u001b[0;32m    181\u001b[0m \u001b[38;5;66;03m# Gebe hier die Uhrzeit an \u001b[39;00m\n\u001b[1;32m--> 182\u001b[0m total_cutoff \u001b[38;5;241m=\u001b[39m berechne_total_cutoff(hh, minuten, sek, ms)\n\u001b[0;32m    184\u001b[0m \u001b[38;5;66;03m# Theoretisch reicht es auch, einfach die Anfangszeit der Spirodaten einzugeben, die Funktion später filtert nach genauer Uhrzeit\u001b[39;00m\n\u001b[0;32m    185\u001b[0m \u001b[38;5;66;03m# und nimmt die drei nahesten Punkte\u001b[39;00m\n\u001b[0;32m    186\u001b[0m \u001b[38;5;66;03m# convert flow to ml/sec\u001b[39;00m\n\u001b[0;32m    187\u001b[0m data_vol_cutoff \u001b[38;5;241m=\u001b[39m data_vol[total_cutoff:]\n",
      "File \u001b[1;32m~\\1_programmierung_masterarbeit\\Korrelation\\DataIntoDicom.py:162\u001b[0m, in \u001b[0;36mberechne_total_cutoff\u001b[1;34m(hh, minuten, sek, ms)\u001b[0m\n\u001b[0;32m    157\u001b[0m start_spiro_time \u001b[38;5;241m=\u001b[39m h_timestamp_spiro \u001b[38;5;241m+\u001b[39m min_timestamp_spiro \u001b[38;5;241m+\u001b[39m s_timestamp_spiro \u001b[38;5;241m+\u001b[39m ms_timestamp_spiro\n\u001b[0;32m    159\u001b[0m \u001b[38;5;66;03m#start_spiro_time = time_stamp - (stamp_spiro_no * SR_spiro)\u001b[39;00m\n\u001b[0;32m    160\u001b[0m \u001b[38;5;66;03m# Wie viel muss von der Spirodatei weggeschnitten werden, damit wir die differenz zwischen erstem bild\u001b[39;00m\n\u001b[0;32m    161\u001b[0m \u001b[38;5;66;03m# und spirostart haben (ohne korrelation berücksichtigt)\u001b[39;00m\n\u001b[1;32m--> 162\u001b[0m cutoff \u001b[38;5;241m=\u001b[39m \u001b[38;5;28mint\u001b[39m((msnmn\u001b[38;5;241m-\u001b[39mstart_spiro_time)\u001b[38;5;241m/\u001b[39m(SR_spiro))\n\u001b[0;32m    164\u001b[0m \u001b[38;5;66;03m# Schneide so viele Punkte weg, bis zur Ruhephase aus der Spirometriedatei VOM ZEITSTEMPEL\u001b[39;00m\n\u001b[0;32m    165\u001b[0m \u001b[38;5;28mprint\u001b[39m(\u001b[38;5;124mf\u001b[39m\u001b[38;5;124m\"\u001b[39m\u001b[38;5;124mCutoff Zeitstempel in 8ms bis vom Zeitstempel bis zum Start der Bilder: \u001b[39m\u001b[38;5;132;01m{\u001b[39;00mcutoff\u001b[38;5;132;01m}\u001b[39;00m\u001b[38;5;124m\"\u001b[39m)\n",
      "\u001b[1;31mNameError\u001b[0m: name 'msnmn' is not defined"
     ]
    }
   ],
   "source": [
    "from datetime import datetime, timedelta\n",
    "SR_spiro = 8 # in ms\n",
    "data_vol = np.load(\"spiro.npy\")\n",
    "timestamps = [convert_dicom_time(dicomtime)]\n",
    "while len(timestamps) < len(data_vol):\n",
    "    timestamps.append(timestamps[-1] + timedelta(microseconds=(SR_spiro*1000)))\n",
    "    # timestamps der Bilder\n",
    "timestamps = np.array(timestamps)\n",
    "#data[:,0] *= 1000 # flow in ml/sec\n",
    "data_vol_cutoff = get_cutted_spiro_data(18, 13, 53, 415)\n",
    "\n",
    "timestamps = timestamps[0:len(data_vol_cutoff)]"
   ]
  },
  {
   "cell_type": "code",
   "execution_count": 41,
   "id": "a9adc531-5226-44a5-beb9-d0bbaea65da2",
   "metadata": {},
   "outputs": [],
   "source": [
    "# Iteriert durch alle Slices und Dicomdateien, und fügt den Tag 019 001 hinzu\n",
    "k = []\n",
    "for i in scans:\n",
    "    l = []\n",
    "    for j in scans[i]:\n",
    "        scans[i][j].add_new((0x19, 0x01),'LO', str())\n",
    "        # volume\n",
    "        # infos for plotting\n",
    "    k += l"
   ]
  },
  {
   "cell_type": "code",
   "execution_count": 43,
   "id": "8a08f529-55d6-4301-9f3f-fb7b61780ff1",
   "metadata": {},
   "outputs": [
    {
     "name": "stdout",
     "output_type": "stream",
     "text": [
      "8000 images processed\n"
     ]
    }
   ],
   "source": [
    "# copy ecg information (0018-1060) and overwrite instance number (0020-0013)\n",
    "# this is required for further post-processing of the files using the Software Circle Cvi 42\n",
    "count = 0\n",
    "for slice_name in scans:\n",
    "    for image_name in scans[slice_name]:\n",
    "        current_scan = scans[slice_name][image_name]\n",
    "        ecg = str(current_scan.get_item((0x18, 0x1060)).value).strip('b\\'')\n",
    "        current_scan[0x20, 0x0013].value = floor(float(ecg)) # truncate decimal places\n",
    "        count += 1\n",
    "print(count, 'images processed')"
   ]
  },
  {
   "cell_type": "code",
   "execution_count": 45,
   "id": "39b3af46-10a4-4674-8557-afb47e9fc2a4",
   "metadata": {},
   "outputs": [],
   "source": [
    "# sort all imported scans by their filename\n",
    "scans_sort = OrderedDict(sorted(scans.items()))\n",
    "list(scans_sort.keys())\n",
    "\n",
    "for scan in scans_sort:\n",
    "    d = scans_sort[scan]\n",
    "    scans_sort[scan] = OrderedDict(sorted(d.items()))\n",
    "    \n",
    "# check if sorted\n",
    "for scan in scans_sort:\n",
    "    l = list(scans_sort[scan].keys())\n",
    "    for i in range(0, len(l)-1):\n",
    "        assert l[i]<l[i+1]"
   ]
  },
  {
   "cell_type": "code",
   "execution_count": 47,
   "id": "ce9cdc66-3ac5-438e-9664-818e719e18be",
   "metadata": {},
   "outputs": [],
   "source": [
    "filename_spiro = \"05_22_5_2025_17_46raw.log\"\n",
    "spiro_resorted = read_spiro_data(filename_spiro)\n",
    "flow_data = spiro_resorted[1]\n",
    "data_flow_cutoff = np.array(flow_data[total_cutoff:])"
   ]
  },
  {
   "cell_type": "code",
   "execution_count": 51,
   "id": "2752db4e-f650-40e9-b4d7-adbb03a4ef6d",
   "metadata": {},
   "outputs": [
    {
     "name": "stdout",
     "output_type": "stream",
     "text": [
      "30_mpi92_bSSFP_FOV320_16x8mm_33ms_10min_SA_Slice_1_32557\n",
      "31_mpi92_bSSFP_FOV320_16x8mm_33ms_10min_SA_Slice_2_557.1\n",
      "32_mpi92_bSSFP_FOV320_16x8mm_33ms_10min_SA_Slice_3_557.2\n",
      "33_mpi92_bSSFP_FOV320_16x8mm_33ms_10min_SA_Slice_4_557.3\n",
      "34_mpi92_bSSFP_FOV320_16x8mm_33ms_10min_SA_Slice_5_557.4\n",
      "35_mpi92_bSSFP_FOV320_16x8mm_33ms_10min_SA_Slice_6_557.5\n",
      "36_mpi92_bSSFP_FOV320_16x8mm_33ms_10min_SA_Slice_7_557.6\n",
      "37_mpi92_bSSFP_FOV320_16x8mm_33ms_10min_SA_Slice_8_557.7\n",
      "38_mpi92_bSSFP_FOV320_16x8mm_33ms_10min_SA_Slice_9_557.8\n",
      "39_mpi92_bSSFP_FOV320_16x8mm_33ms_10min_SA_Slice_10_557.9\n",
      "40_mpi92_bSSFP_FOV320_16x8mm_33ms_10min_SA_Slice_11_57.10\n",
      "41_mpi92_bSSFP_FOV320_16x8mm_33ms_10min_SA_Slice_12_57.11\n",
      "42_mpi92_bSSFP_FOV320_16x8mm_33ms_10min_SA_Slice_13_57.12\n",
      "43_mpi92_bSSFP_FOV320_16x8mm_33ms_10min_SA_Slice_14_57.13\n",
      "44_mpi92_bSSFP_FOV320_16x8mm_33ms_10min_SA_Slice_15_57.14\n",
      "45_mpi92_bSSFP_FOV320_16x8mm_33ms_10min_SA_Slice_16_57.15\n"
     ]
    }
   ],
   "source": [
    "# pick the three timestamps from the spirometry that are clostest to the acquisition time of the scan\n",
    "# calculate the median of the flow and volume measurements belonging to these three time stamps\n",
    "# save flow and respiratory volume median into dicom tags\n",
    "# flow to (0x08, 0x03), volume to (0x08, 0x04), für jede dicom, l = [trigger time, volume, flow]\n",
    "# ecg_v_info ist liste aus slice einträgen, in jedem eintrag sind l drin\n",
    "ecg_v_f = flow_volume_into_scans(scans_sort, timestamps, data_flow, data_vol_cutoff)\n",
    "\n",
    "# teste, ob scans_sort verändert wurde"
   ]
  },
  {
   "cell_type": "code",
   "execution_count": 53,
   "id": "7045ed1e-199e-4652-95e5-3d8b127a6119",
   "metadata": {},
   "outputs": [
    {
     "name": "stdout",
     "output_type": "stream",
     "text": [
      "8000 images processed\n"
     ]
    }
   ],
   "source": [
    "# binning by inspiration/expiration and ecg groups \n",
    "# the group id is calculated as (time after r-peak + 16.5)//37\n",
    "# each group covers 37 ms of time\n",
    "# das ist eine neue dictionary\n",
    "divider_ruhe = 35 # 35ms für 25 EKG Klassen\n",
    "divider_bel = 28 # bel zu 28 ms für 25 EKG klassen\n",
    "count = 0\n",
    "scans_sort_by_ecg = {}\n",
    "for i in scans_sort:\n",
    "    # iteriert durch die Slices\n",
    "    scans_sort_by_ecg[i] = {}\n",
    "    for j in scans_sort[i]:\n",
    "        # iteriert durch die Dicoms\n",
    "        count += 1\n",
    "        current_scan = scans_sort[i][j]\n",
    "        ecg = float(str(current_scan.get_item((0x18, 0x1060)).value).strip('b\\''))\n",
    "        ecg_group = int((ecg+16.5)//divider_ruhe) # calculate group id\n",
    "        if ecg_group == 25:\n",
    "            ecg_group = 0\n",
    "        # falls neue ECG gruppe, in i-ten slice eintrag der dict ein 2x2 list\n",
    "        if ecg_group not in scans_sort_by_ecg[i].keys():\n",
    "            scans_sort_by_ecg[i][ecg_group] = [[], []]\n",
    "        # flow 0003 größer 0\n",
    "        if float(current_scan.get_item((0x08, 0x03)).value) >= 0:\n",
    "            # inspiration, fügt in \n",
    "            scans_sort_by_ecg[i][ecg_group][0].append(current_scan)\n",
    "        else:\n",
    "            # exspiration\n",
    "            scans_sort_by_ecg[i][ecg_group][1].append(current_scan)\n",
    "print(count, 'images processed')\n",
    "\n",
    "# Es gibt ein scans_sort_by_ecg dictionary, mit i Schichten Einträgen, \n",
    "#in jeder Schicht sind mehrere EKG Gruppen, und in jeder EKG Schicht, Inspiration/Exspiration\n",
    "#in diesen Einträgen sind dicoms in inspiration und exspiration eingetragen\n",
    "# [[ischichten[ecg gruppe 1 [insp][exsp]][][][]]]"
   ]
  },
  {
   "cell_type": "code",
   "execution_count": 55,
   "id": "58cce4af-1611-4e7c-bbcb-669f804b7883",
   "metadata": {},
   "outputs": [
    {
     "name": "stdout",
     "output_type": "stream",
     "text": [
      "Scans in group: 12\n",
      "Scans in group: 20\n"
     ]
    }
   ],
   "source": [
    "# count scans in each group \n",
    "slice_name = slice_liste[0] # pick slice of interest\n",
    "ecg_group = 10 # time after R-peak for group a (0-25) a*37ms to (a+1)*37ms\n",
    "resp = 1 # 0 for inspiration, 1 for expiration\n",
    "print('Scans in group:', len(scans_sort_by_ecg[slice_name][ecg_group][resp]))\n",
    "#same for sum of inspiratory and expiratory scans in each group\n",
    "slice_name = slice_liste[0] # pick slice of interest\n",
    "ecg_group = 10   # time after R-peak for group a (0-25) a*37ms to (a+1)*37ms\n",
    "insp_and_exp_scans = scans_sort_by_ecg[slice_name][ecg_group][0]+scans_sort_by_ecg[slice_name][ecg_group][1]\n",
    "print('Scans in group:', len(insp_and_exp_scans))"
   ]
  },
  {
   "cell_type": "code",
   "execution_count": 57,
   "id": "14a1a561-2194-4e35-a670-e844a02ec313",
   "metadata": {},
   "outputs": [
    {
     "name": "stdout",
     "output_type": "stream",
     "text": [
      "8000\n"
     ]
    }
   ],
   "source": [
    "# count all scans in scans_sort\n",
    "count = 0\n",
    "for i in scans_sort:\n",
    "    # slice i\n",
    "    for j in scans_sort[i]:\n",
    "        # scan j\n",
    "        count += 1\n",
    "print(count)"
   ]
  },
  {
   "cell_type": "code",
   "execution_count": 59,
   "id": "550dc203-2bae-46d8-bb6b-e17abb92f37a",
   "metadata": {},
   "outputs": [
    {
     "name": "stdout",
     "output_type": "stream",
     "text": [
      "too big of a volume, invalid bin\n",
      "too big of a volume, invalid bin\n",
      "too big of a volume, invalid bin\n",
      "too big of a volume, invalid bin\n",
      "too big of a volume, invalid bin\n",
      "too big of a volume, invalid bin\n",
      "too big of a volume, invalid bin\n",
      "too big of a volume, invalid bin\n",
      "too big of a volume, invalid bin\n",
      "too big of a volume, invalid bin\n",
      "too big of a volume, invalid bin\n",
      "too big of a volume, invalid bin\n",
      "too big of a volume, invalid bin\n",
      "too big of a volume, invalid bin\n",
      "too big of a volume, invalid bin\n",
      "too big of a volume, invalid bin\n",
      "too big of a volume, invalid bin\n",
      "too big of a volume, invalid bin\n",
      "too big of a volume, invalid bin\n",
      "too big of a volume, invalid bin\n",
      "too big of a volume, invalid bin\n",
      "too big of a volume, invalid bin\n",
      "too big of a volume, invalid bin\n",
      "too big of a volume, invalid bin\n",
      "too big of a volume, invalid bin\n",
      "too big of a volume, invalid bin\n",
      "too big of a volume, invalid bin\n",
      "too big of a volume, invalid bin\n",
      "too big of a volume, invalid bin\n",
      "too big of a volume, invalid bin\n",
      "too big of a volume, invalid bin\n",
      "too big of a volume, invalid bin\n",
      "too big of a volume, invalid bin\n",
      "too big of a volume, invalid bin\n",
      "too big of a volume, invalid bin\n",
      "too big of a volume, invalid bin\n",
      "too big of a volume, invalid bin\n",
      "too big of a volume, invalid bin\n",
      "too big of a volume, invalid bin\n",
      "too big of a volume, invalid bin\n",
      "too big of a volume, invalid bin\n",
      "too big of a volume, invalid bin\n",
      "too big of a volume, invalid bin\n",
      "too big of a volume, invalid bin\n",
      "too big of a volume, invalid bin\n",
      "too big of a volume, invalid bin\n",
      "too big of a volume, invalid bin\n",
      "too big of a volume, invalid bin\n",
      "too big of a volume, invalid bin\n",
      "too big of a volume, invalid bin\n",
      "too big of a volume, invalid bin\n",
      "too big of a volume, invalid bin\n",
      "too big of a volume, invalid bin\n",
      "too big of a volume, invalid bin\n",
      "too big of a volume, invalid bin\n",
      "too big of a volume, invalid bin\n",
      "too big of a volume, invalid bin\n",
      "too big of a volume, invalid bin\n",
      "too big of a volume, invalid bin\n",
      "too big of a volume, invalid bin\n",
      "too big of a volume, invalid bin\n",
      "too big of a volume, invalid bin\n",
      "too big of a volume, invalid bin\n",
      "too big of a volume, invalid bin\n",
      "too big of a volume, invalid bin\n",
      "too big of a volume, invalid bin\n",
      "too big of a volume, invalid bin\n",
      "too big of a volume, invalid bin\n",
      "too big of a volume, invalid bin\n",
      "too big of a volume, invalid bin\n",
      "too big of a volume, invalid bin\n",
      "too big of a volume, invalid bin\n",
      "too big of a volume, invalid bin\n",
      "too big of a volume, invalid bin\n",
      "too big of a volume, invalid bin\n",
      "too big of a volume, invalid bin\n",
      "too big of a volume, invalid bin\n",
      "too big of a volume, invalid bin\n",
      "too big of a volume, invalid bin\n",
      "too big of a volume, invalid bin\n",
      "too big of a volume, invalid bin\n",
      "too big of a volume, invalid bin\n",
      "too big of a volume, invalid bin\n",
      "too big of a volume, invalid bin\n",
      "too big of a volume, invalid bin\n",
      "too big of a volume, invalid bin\n",
      "too big of a volume, invalid bin\n",
      "too big of a volume, invalid bin\n",
      "too big of a volume, invalid bin\n",
      "too big of a volume, invalid bin\n",
      "too big of a volume, invalid bin\n",
      "too big of a volume, invalid bin\n",
      "too big of a volume, invalid bin\n",
      "too big of a volume, invalid bin\n",
      "too big of a volume, invalid bin\n",
      "too big of a volume, invalid bin\n",
      "too big of a volume, invalid bin\n",
      "too big of a volume, invalid bin\n",
      "too big of a volume, invalid bin\n",
      "too big of a volume, invalid bin\n",
      "too big of a volume, invalid bin\n",
      "too big of a volume, invalid bin\n",
      "too big of a volume, invalid bin\n",
      "too big of a volume, invalid bin\n",
      "too big of a volume, invalid bin\n",
      "7610 images kept\n",
      "8000 images processed\n"
     ]
    }
   ],
   "source": [
    "# binning by inspiration/expiration, ecg groups and respiratory volume groups\n",
    "# we define the following groups for the respiratory volume\n",
    "# less than 150\n",
    "# 150 to 300\n",
    "# 300 to 450\n",
    "# greater than 450 \n",
    "# we choose 40ms per ecg group because we are having an average time between two r-peaks of 1000ms\n",
    "# Analysis seperate within rest and exercise phase\n",
    "# 40 ms per ecg group, because of average time of 1000 ms between two r-peaks, 1000/25\n",
    "min_vol, max_vol = np.min(ecg_v_f.reshape(-1,3)[:,1]), np.max(ecg_v_f.reshape(-1,3)[:,1])\n",
    "\n",
    "scans_sort_by_ecg_and_vol = {}\n",
    "\n",
    "# initialize empty dictionary\n",
    "for i in scans_sort:\n",
    "    for ecg_group in range(25):\n",
    "        scans_sort_by_ecg[i] = {}\n",
    "        scans_sort_by_ecg[i][ecg_group] = [{'min_th':[], 'over_th':[],},\n",
    "                                          {'min_th':[], 'over_th':[]}]\n",
    "\n",
    "# Trage hier das mean Atemzugvolumen aus den Ergebnissen der Spiro-Excel ein\n",
    "mean_volume = 0.590 # ml\n",
    "# Es werden nur die Bilder herausgesucht, die ein Volumen von kleiner als Threshhold haben, daraus wird dann das Bild mit dem niedrigsten Volumen gefüllt\n",
    "threshold_volume = 0.25\n",
    "\n",
    "count = 0\n",
    "count_less_24 = 0\n",
    "for i in scans_sort:\n",
    "    for j in scans_sort[i]:\n",
    "        count += 1\n",
    "        current_scan = scans_sort[i][j]\n",
    "        ecg = float(str(current_scan.get_item((0x18, 0x1060)).value).strip('b\\''))\n",
    "        # +16.5ms, da trigger time mittig vom scan ist \n",
    "        ecg_group = int((ecg+16.5)//divider_ruhe)\n",
    "        if ecg_group == 25:\n",
    "            ecg_group = 0\n",
    "        if ecg_group <= 24:\n",
    "            # Zählt wie viele in 24 oder darunter sind\n",
    "            count_less_24 += 1\n",
    "            # aber es gibt doch bereits die ecg gruppe\n",
    "            if ecg_group not in scans_sort_by_ecg[i].keys():\n",
    "                scans_sort_by_ecg[i][ecg_group] = [{'min_th':[], 'over_th':[],},\n",
    "                                                  {'min_th':[], 'over_th':[]}]\n",
    "                #print(f\"extra_bin hinzugefügt {i}, {ecg_group}\")\n",
    "            if float(current_scan.get_item((0x08, 0x03)).value) <= 0:\n",
    "                # exspiration\n",
    "                vol = float(current_scan.get_item((0x08, 0x04)).value)\n",
    "                if vol<=(mean_volume * threshold_volume):\n",
    "                    \n",
    "                    scans_sort_by_ecg[i][ecg_group][1]['min_th'].append(current_scan)\n",
    "                elif vol < mean_volume and vol > (mean_volume * threshold_volume):\n",
    "                    scans_sort_by_ecg[i][ecg_group][1]['over_th'].append(current_scan)\n",
    "                    #print(f\"in over_10 because  ecg_group: {ecg_group}, slice: {i},{vol}\")\n",
    "                else:\n",
    "                    print('too big of a volume, invalid bin')\n",
    "                    \n",
    "print(count_less_24, 'images kept')\n",
    "print(count, 'images processed')"
   ]
  },
  {
   "cell_type": "code",
   "execution_count": 65,
   "id": "1341dec5-93b7-4829-b2bc-bcd39cb9c25c",
   "metadata": {},
   "outputs": [],
   "source": [
    "# export all binned scans\n",
    "# no filling of empty bins or picking scans of bins containing more than one scan\n",
    "for slc in scans_sort_by_ecg:\n",
    "    for ecg_group in scans_sort_by_ecg[slc]:\n",
    "        # 0, weil nur exspiration gefüllt werden soll\n",
    "        for vol_group in scans_sort_by_ecg[slc][ecg_group][1]:\n",
    "            for i,to_export in enumerate(scans_sort_by_ecg[slc][ecg_group][1][vol_group]):\n",
    "                path_to_save = './output_all_slices_ruhe/'+vol_group+'/'+str(1)+'/'+str(slc)+'/'+str(ecg_group)+'/'\n",
    "                ensure_dir(path_to_save)\n",
    "                pydicom.filewriter.dcmwrite(path_to_save+'scan'+str(i)+'.dcm', to_export)"
   ]
  },
  {
   "cell_type": "code",
   "execution_count": 67,
   "id": "88a0cc9c-5b4a-432d-821d-8c0bfc1db278",
   "metadata": {},
   "outputs": [],
   "source": [
    "# only export scans that have a respiratory volume clostest to the center of the bin\n",
    "# (if a bin contains more than one scan)\n",
    "for slc in scans_sort_by_ecg:\n",
    "    # iteriert durch slice\n",
    "    for ecg_group in scans_sort_by_ecg[slc]:\n",
    "        #iteriert durch ecg_grouppe, 24 stück\n",
    "        for vol_group in scans_sort_by_ecg[slc][ecg_group][1]:\n",
    "            # iteriert durch vol_grouppe 2, min_10 und over20\n",
    "            group = scans_sort_by_ecg[slc][ecg_group][1][vol_group].copy()\n",
    "\n",
    "            if vol_group=='min_th':\n",
    "                #Hälfte des bins (mean_volume * threshold) / 2\n",
    "                mid = (min_vol + (mean_volume * threshold_volume))/2\n",
    "            elif vol_group=='over_th':\n",
    "                mid = mean_volume/2\n",
    "            else:\n",
    "                print('invalid group')\n",
    "            \n",
    "            # pic scan with volume closest to center\n",
    "            volumes = [float(scan.get_item((0x08, 0x04)).value) for scan in group]\n",
    "            distances = np.array(volumes)-mid\n",
    "\n",
    "            if len(distances)>0:\n",
    "                idx = np.argmin(distances)\n",
    "                to_export = group[idx]\n",
    "            else:\n",
    "                print('empty bin:',vol_group, slc, ecg_group)\n",
    "                to_export = find_closest_from_other_bin(mid, scans_sort_by_ecg, \n",
    "                                                          vol_group, slc, ecg_group)\n",
    "                \n",
    "                if to_export is None:\n",
    "                    print('cannot fill bin')\n",
    "                    continue\n",
    "        \n",
    "                    \n",
    "            path_to_save = './output_ruhe/'+vol_group+'/'+str(1)+'/'+str(slc)+'/'+str(ecg_group)+'/'\n",
    "            ensure_dir(path_to_save)\n",
    "            pydicom.filewriter.dcmwrite(path_to_save+'scan'+'.dcm', to_export)"
   ]
  }
 ],
 "metadata": {
  "kernelspec": {
   "display_name": "Python [conda env:base] *",
   "language": "python",
   "name": "conda-base-py"
  },
  "language_info": {
   "codemirror_mode": {
    "name": "ipython",
    "version": 3
   },
   "file_extension": ".py",
   "mimetype": "text/x-python",
   "name": "python",
   "nbconvert_exporter": "python",
   "pygments_lexer": "ipython3",
   "version": "3.12.7"
  }
 },
 "nbformat": 4,
 "nbformat_minor": 5
}
